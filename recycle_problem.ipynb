{
 "cells": [
  {
   "cell_type": "code",
   "execution_count": 1,
   "id": "92d1b86f",
   "metadata": {},
   "outputs": [],
   "source": [
    "import gurobipy as gp\n",
    "from gurobipy import GRB"
   ]
  },
  {
   "cell_type": "code",
   "execution_count": 8,
   "id": "6f02f08b",
   "metadata": {},
   "outputs": [
    {
     "name": "stdout",
     "output_type": "stream",
     "text": [
      "100\n"
     ]
    }
   ],
   "source": [
    "a= 900\n",
    "print(a//9)"
   ]
  },
  {
   "cell_type": "code",
   "execution_count": null,
   "id": "f5e8468f",
   "metadata": {},
   "outputs": [],
   "source": [
    "# amount of each categories for company bundle\n",
    "Company, paper, glass, plastic  = gp.multidict({\n",
    "    'A' : [5,3,1],\n",
    "    'B' : [7,3,2],\n",
    "    'C' : [2,1,1],\n",
    "    'D' : [3,1,4]\n",
    "})\n",
    "\n",
    "# amount of supply, already subtracted from the company relationship require\n",
    "Categories, amount = gp.multidict({\n",
    "    'paper' : 13300,\n",
    "    'glass' : 6200,\n",
    "    'plastic' : 13200\n",
    "})\n",
    "\n",
    "# profit from company bundle\n",
    "Company, profit_bundle = gp.multidict({\n",
    "    'A' : 2, # per 9lbs bundle\n",
    "    'B' : 3, # per 10lbs bundle\n",
    "    'C' : 1, # per 4lbs bundle\n",
    "    'D' : 2 # per 9lbs bundle\n",
    "})\n",
    "\n",
    "# profit from small recycler\n",
    "Categories, profit_single = gp.multidict({\n",
    "    'paper' : 0.05,\n",
    "    'glass' : 0.03,\n",
    "    'plastic' : 0.02\n",
    "})\n"
   ]
  },
  {
   "cell_type": "markdown",
   "id": "59c3b6cf",
   "metadata": {},
   "source": [
    "1) \n",
    "\n",
    "Total collection\n",
    "\n",
    "15,000 pounds of paper\n",
    "\n",
    "7,000 pounds of glass\n",
    "\n",
    "14,000 pounds of plastic"
   ]
  },
  {
   "cell_type": "code",
   "execution_count": null,
   "id": "b6ba8560",
   "metadata": {},
   "outputs": [
    {
     "name": "stdout",
     "output_type": "stream",
     "text": [
      "5\n"
     ]
    }
   ],
   "source": [
    "model_revenue1 = gp.Model(name = 'revenue')\n",
    "\n",
    "model_revenue1.addVars(Categories, name = 'materials')\n",
    "model_revenue1.setObjective()"
   ]
  }
 ],
 "metadata": {
  "kernelspec": {
   "display_name": "Python 3",
   "language": "python",
   "name": "python3"
  },
  "language_info": {
   "codemirror_mode": {
    "name": "ipython",
    "version": 3
   },
   "file_extension": ".py",
   "mimetype": "text/x-python",
   "name": "python",
   "nbconvert_exporter": "python",
   "pygments_lexer": "ipython3",
   "version": "3.11.11"
  }
 },
 "nbformat": 4,
 "nbformat_minor": 5
}
