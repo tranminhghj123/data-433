{
 "cells": [
  {
   "cell_type": "code",
   "execution_count": 2,
   "id": "b3a6dff0",
   "metadata": {},
   "outputs": [],
   "source": [
    "import numpy as np\n",
    "import gurobipy as gp\n",
    "from gurobipy import GRB\n",
    "import json"
   ]
  },
  {
   "cell_type": "code",
   "execution_count": 4,
   "id": "98a39092",
   "metadata": {},
   "outputs": [
    {
     "data": {
      "text/plain": [
       "{'B': 20,\n",
       " 'N': 4,\n",
       " 'profits': [0.11, 0.02, 0.04, 0.03],\n",
       " 'L': [12, 12],\n",
       " 'R': [[0, 2], [1, 3]],\n",
       " 'M': 8,\n",
       " 'm': [2, 2, 2, 2],\n",
       " 'cities': ['Atlanta', 'Boston', 'Charlotte', 'Detroit']}"
      ]
     },
     "metadata": {},
     "output_type": "display_data"
    }
   ],
   "source": [
    "with open('question_one_data.json', 'r') as f:\n",
    "    data = json.load(f)\n",
    "\n",
    "\n",
    "display(data)"
   ]
  },
  {
   "cell_type": "code",
   "execution_count": 8,
   "id": "295ded15",
   "metadata": {},
   "outputs": [
    {
     "name": "stdout",
     "output_type": "stream",
     "text": [
      "Gurobi Optimizer version 12.0.3 build v12.0.3rc0 (mac64[x86] - Darwin 21.6.0 21H1320)\n",
      "\n",
      "CPU model: Intel(R) Core(TM) i5-5350U CPU @ 1.80GHz\n",
      "Thread count: 2 physical cores, 4 logical processors, using up to 4 threads\n",
      "\n",
      "Optimize a model with 3 rows, 4 columns and 8 nonzeros\n",
      "Model fingerprint: 0xadb1f363\n",
      "Coefficient statistics:\n",
      "  Matrix range     [1e+00, 1e+00]\n",
      "  Objective range  [2e-02, 1e-01]\n",
      "  Bounds range     [2e+00, 8e+00]\n",
      "  RHS range        [1e+01, 2e+01]\n",
      "Presolve time: 0.03s\n",
      "Presolved: 3 rows, 4 columns, 8 nonzeros\n",
      "\n",
      "Iteration    Objective       Primal Inf.    Dual Inf.      Time\n",
      "       0    1.7200000e+00   5.000000e+00   0.000000e+00      0s\n",
      "       2    1.2600000e+00   0.000000e+00   0.000000e+00      0s\n",
      "\n",
      "Solved in 2 iterations and 0.04 seconds (0.00 work units)\n",
      "Optimal objective  1.260000000e+00\n",
      "Detroit: 6.0 \n",
      "Boston: 2.0 \n",
      "Atlanta: 8.0 \n",
      "Charlotte: 4.0 \n"
     ]
    }
   ],
   "source": [
    "model = gp.Model(name='budget_maximize')\n",
    "\n",
    "cities = {'Atlanta', 'Boston', 'Charlotte', 'Detroit'}\n",
    "north = {'Boston', 'Detroit'}\n",
    "assert north.issubset(cities)\n",
    "south = {'Atlanta', 'Charlotte'}\n",
    "assert south.issubset(cities)\n",
    "price_increased = {\n",
    "    \"Atlanta\": 0.11,\n",
    "    \"Boston\": 0.02, \n",
    "    \"Charlotte\": 0.04,\n",
    "    \"Detroit\": 0.03\n",
    "}\n",
    "\n",
    "x = model.addVars(cities, lb=2, ub = 8, name='x')\n",
    "model.addConstr(x.sum() <= 20, name='budget')\n",
    "model.addConstr(gp.quicksum(x.select(north)) <=12, name ='NorthBudget')\n",
    "model.addConstr(gp.quicksum(x.select(south)) <=12, name ='SouthBudget')\n",
    "model.setObjective(x.prod(price_increased), GRB.MAXIMIZE)\n",
    "\n",
    "model.optimize()\n",
    "if model.Status == GRB.OPTIMAL:\n",
    "    for city in cities:\n",
    "        print(f\"{city}: {x[city].X} \")"
   ]
  }
 ],
 "metadata": {
  "kernelspec": {
   "display_name": "Python 3",
   "language": "python",
   "name": "python3"
  },
  "language_info": {
   "codemirror_mode": {
    "name": "ipython",
    "version": 3
   },
   "file_extension": ".py",
   "mimetype": "text/x-python",
   "name": "python",
   "nbconvert_exporter": "python",
   "pygments_lexer": "ipython3",
   "version": "3.11.11"
  }
 },
 "nbformat": 4,
 "nbformat_minor": 5
}
