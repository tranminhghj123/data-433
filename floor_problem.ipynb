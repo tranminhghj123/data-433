{
 "cells": [
  {
   "cell_type": "code",
   "execution_count": 106,
   "id": "0d1866bb",
   "metadata": {},
   "outputs": [],
   "source": [
    "import gurobipy as gp\n",
    "from gurobipy import GRB"
   ]
  },
  {
   "cell_type": "markdown",
   "id": "e27a18e1",
   "metadata": {},
   "source": [
    "***Please refreing to this list for corresponding funitures***\n",
    "\n",
    "'a1' = beds, \n",
    "\n",
    "'a2' = Bookcases, \n",
    "\n",
    "'a3' = chair_dining, \n",
    "\n",
    "'a4' = chair_living, \n",
    "\n",
    "'a5' = chair_office, \n",
    "\n",
    "'a6' = coffe_table, \n",
    "\n",
    "'a7' = couches, \n",
    "\n",
    "'a8' = Desk, \n",
    "\n",
    "'a9' = dining_table, \n",
    "\n",
    "'a10' = Dresser"
   ]
  },
  {
   "cell_type": "code",
   "execution_count": 107,
   "id": "bdf6d0fd",
   "metadata": {},
   "outputs": [],
   "source": [
    "# setting the profit for each furniture\n",
    "furnitures, profit = gp.multidict({\n",
    "    'a1' : 10, \n",
    "    'a2' : 7, \n",
    "    'a3' : 12, \n",
    "    'a4' : 9, \n",
    "    'a5' : 3, \n",
    "    'a6' : 5, \n",
    "    'a7' : 8, \n",
    "    'a8' : 6, \n",
    "    'a9' : 13, \n",
    "    'a10': 4\n",
    "})\n",
    "\n",
    "# list of furniture in each catefories\n",
    "Categories = {\n",
    "    'Bedrooms' : ['a1', 'a10'],\n",
    "    'living_room' : ['a4', 'a6', 'a7'],\n",
    "    'Dining' : ['a3', 'a9'],\n",
    "    'office' : ['a2', 'a5', 'a8'],\n",
    "    'beds' : ['a1'],\n",
    "    'seating' : ['a3', 'a4', 'a5', 'a7'],\n",
    "    'tables' : ['a6', 'a9'],\n",
    "    'storage' : ['a2','a8', 'a10']\n",
    "}\n",
    "\n",
    "# minimum space for each categories\n",
    "Categorie, percent_space = gp.multidict({\n",
    "    'Bedrooms' : 0.2, \n",
    "    'living_room' : 0.2,\n",
    "    'Dining': 0.15, \n",
    "    'office' : 0.10, \n",
    "    'beds': 0.10, \n",
    "    'seating': 0.50, \n",
    "    'tables': 0.10, \n",
    "    'storage' : 0.05\n",
    "})"
   ]
  },
  {
   "cell_type": "code",
   "execution_count": 108,
   "id": "4358916f",
   "metadata": {},
   "outputs": [
    {
     "name": "stdout",
     "output_type": "stream",
     "text": [
      "['a1', 'a2', 'a3', 'a4', 'a5', 'a6', 'a7', 'a8', 'a9', 'a10']\n"
     ]
    }
   ],
   "source": [
    "print(str(furnitures).lstrip(\" \"))"
   ]
  },
  {
   "cell_type": "code",
   "execution_count": 109,
   "id": "9216596f",
   "metadata": {},
   "outputs": [
    {
     "data": {
      "text/plain": [
       "<gurobi.Constr *Awaiting Model Update*>"
      ]
     },
     "execution_count": 109,
     "metadata": {},
     "output_type": "execute_result"
    }
   ],
   "source": [
    "model_profit  = gp.Model('furniture_profit')\n",
    "# each features is percent space for each furniture \n",
    "space = model_profit.addVars(furnitures, name = 'space')\n",
    "\n",
    "# maximiza profit\n",
    "model_profit.setObjective(space.prod(profit), GRB.MAXIMIZE)\n",
    "\n",
    "# each furniture have at least 0.05 space\n",
    "model_profit.addConstrs((space[i] >= 0.05 for i in furnitures), name = 'minimum_space')\n",
    "# space of a9 = 1.5 a3\n",
    "model_profit.addConstr(space['a9'] == 1.5 * space['a3'], name = 'dining_space')\n",
    "\n",
    "# loop through the condition for each categories\n",
    "for i in Categories.keys():\n",
    "    # adding the sapce considered in each categories\n",
    "    model_profit.addConstr(gp.quicksum(space[j] for j in Categories[i]) >= percent_space[i], name =f'min_{i}')\n",
    "\n",
    "# the total of percent space is smaller than 1 \n",
    "model_profit.addConstr(gp.quicksum(space[i] for i in furnitures) ==1, name = 'c3')\n",
    "\n"
   ]
  },
  {
   "cell_type": "code",
   "execution_count": 110,
   "id": "e4009e65",
   "metadata": {},
   "outputs": [
    {
     "name": "stdout",
     "output_type": "stream",
     "text": [
      "Gurobi Optimizer version 12.0.3 build v12.0.3rc0 (mac64[x86] - Darwin 21.6.0 21H1320)\n",
      "\n",
      "CPU model: Intel(R) Core(TM) i5-5350U CPU @ 1.80GHz\n",
      "Thread count: 2 physical cores, 4 logical processors, using up to 4 threads\n",
      "\n",
      "Optimize a model with 20 rows, 10 columns and 42 nonzeros\n",
      "Model fingerprint: 0x78980f0c\n",
      "Coefficient statistics:\n",
      "  Matrix range     [1e+00, 2e+00]\n",
      "  Objective range  [3e+00, 1e+01]\n",
      "  Bounds range     [0e+00, 0e+00]\n",
      "  RHS range        [5e-02, 1e+00]\n",
      "Presolve removed 17 rows and 6 columns\n",
      "Presolve time: 0.02s\n",
      "Presolved: 3 rows, 4 columns, 9 nonzeros\n",
      "\n",
      "Iteration    Objective       Primal Inf.    Dual Inf.      Time\n",
      "       0    1.0925600e+01   3.014000e-01   0.000000e+00      0s\n",
      "       2    9.0000000e+00   0.000000e+00   0.000000e+00      0s\n",
      "\n",
      "Solved in 2 iterations and 0.03 seconds (0.00 work units)\n",
      "Optimal objective  9.000000000e+00\n",
      "a1: 0.15000000000000002  \n",
      "a2: 0.05  \n",
      "a3: 0.0999999999999998  \n",
      "a4: 0.3000000000000002  \n",
      "a5: 0.05  \n",
      "a6: 0.05  \n",
      "a7: 0.05  \n",
      "a8: 0.05  \n",
      "a9: 0.1499999999999997  \n",
      "a10: 0.05  \n"
     ]
    }
   ],
   "source": [
    "model_profit.optimize()\n",
    "if model_profit.Status == GRB.OPTIMAL:\n",
    "    for i in furnitures:\n",
    "        print(f\"\"\"{i}: {space[i].X}  \"\"\")"
   ]
  }
 ],
 "metadata": {
  "kernelspec": {
   "display_name": "Python 3",
   "language": "python",
   "name": "python3"
  },
  "language_info": {
   "codemirror_mode": {
    "name": "ipython",
    "version": 3
   },
   "file_extension": ".py",
   "mimetype": "text/x-python",
   "name": "python",
   "nbconvert_exporter": "python",
   "pygments_lexer": "ipython3",
   "version": "3.11.11"
  }
 },
 "nbformat": 4,
 "nbformat_minor": 5
}
