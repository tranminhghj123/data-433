{
 "cells": [
  {
   "cell_type": "code",
   "execution_count": 1,
   "id": "fcaa1a13",
   "metadata": {},
   "outputs": [],
   "source": [
    "import gurobipy as gp\n",
    "from gurobipy import GRB"
   ]
  },
  {
   "cell_type": "code",
   "execution_count": 12,
   "id": "ee8d2080",
   "metadata": {},
   "outputs": [
    {
     "name": "stdout",
     "output_type": "stream",
     "text": [
      "Gurobi Optimizer version 12.0.3 build v12.0.3rc0 (mac64[x86] - Darwin 21.6.0 21H1320)\n",
      "\n",
      "CPU model: Intel(R) Core(TM) i5-5350U CPU @ 1.80GHz\n",
      "Thread count: 2 physical cores, 4 logical processors, using up to 4 threads\n",
      "\n",
      "Optimize a model with 3 rows, 2 columns and 5 nonzeros\n",
      "Model fingerprint: 0x3a75d7aa\n",
      "Coefficient statistics:\n",
      "  Matrix range     [1e+00, 5e+01]\n",
      "  Objective range  [3e+01, 5e+01]\n",
      "  Bounds range     [0e+00, 0e+00]\n",
      "  RHS range        [2e+03, 2e+05]\n",
      "Presolve removed 3 rows and 2 columns\n",
      "Presolve time: 0.04s\n",
      "Presolve: All rows and columns removed\n",
      "Iteration    Objective       Primal Inf.    Dual Inf.      Time\n",
      "       0    1.2353333e+05   0.000000e+00   0.000000e+00      0s\n",
      "\n",
      "Solved in 0 iterations and 0.05 seconds (0.00 work units)\n",
      "Optimal objective  1.235333333e+05\n"
     ]
    },
    {
     "name": "stderr",
     "output_type": "stream",
     "text": [
      "/var/folders/v8/wksvxw9d4pddcx_9trfddjsw0000gn/T/ipykernel_1749/3348012136.py:14: DeprecationWarning: Calling quicksum on a tupledict is deprecated, use .sum() instead.\n",
      "  model.addConstr(gp.quicksum(process_amount) == requirement, name ='requirement_alloy')\n"
     ]
    }
   ],
   "source": [
    "Process, cost, pollution = gp.multidict({\n",
    "    \"1\" : [28, 53],\n",
    "    \"2\" : [53, 50]\n",
    "\n",
    "})\n",
    "\n",
    "requirement = 3400\n",
    "pollution_limit = 200000\n",
    "\n",
    "\n",
    "model= gp.Model(name = 'alloy_cost_minimum')\n",
    "process_amount = model.addVars(Process, name= 'process_amount')\n",
    "\n",
    "model.addConstr(gp.quicksum(process_amount) == requirement, name ='requirement_alloy')\n",
    "model.addConstr(process_amount['1'] <= 2/3 * requirement)\n",
    "model.addConstr(process_amount.prod(pollution) <= pollution_limit)\n",
    "model.setObjective(process_amount.prod(cost), GRB.MINIMIZE)\n",
    "\n",
    "model.optimize()"
   ]
  },
  {
   "cell_type": "code",
   "execution_count": 13,
   "id": "15c36281",
   "metadata": {},
   "outputs": [
    {
     "name": "stdout",
     "output_type": "stream",
     "text": [
      "1: 2266.6666666666665\n",
      "2: 1133.3333333333335\n"
     ]
    }
   ],
   "source": [
    "if model.Status == GRB.OPTIMAL:\n",
    "    for p in Process:\n",
    "\n",
    "        print(f\"{p}: {process_amount[p].X}\")"
   ]
  }
 ],
 "metadata": {
  "kernelspec": {
   "display_name": "Python 3",
   "language": "python",
   "name": "python3"
  },
  "language_info": {
   "codemirror_mode": {
    "name": "ipython",
    "version": 3
   },
   "file_extension": ".py",
   "mimetype": "text/x-python",
   "name": "python",
   "nbconvert_exporter": "python",
   "pygments_lexer": "ipython3",
   "version": "3.11.11"
  }
 },
 "nbformat": 4,
 "nbformat_minor": 5
}
