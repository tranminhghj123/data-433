{
 "cells": [
  {
   "cell_type": "code",
   "execution_count": 5,
   "id": "9469edac",
   "metadata": {},
   "outputs": [],
   "source": [
    "import gurobipy as gp\n",
    "from gurobipy import GRB\n",
    "import numpy as np"
   ]
  },
  {
   "cell_type": "code",
   "execution_count": 6,
   "id": "21cb7015",
   "metadata": {},
   "outputs": [],
   "source": [
    "cities, minimum_require = gp.multidict({\n",
    "    'Airdie' : 52000,\n",
    "    'Redeer': 96000,\n",
    "    'Olds': 8000,\n",
    "    'Carstair' : 4000\n",
    "})\n",
    "\n",
    "company, supply_available,cost = gp.multidict({\n",
    "    'Epcor' : [90000, 12.01],\n",
    "    'Enamax' : [70000, 12.06],\n",
    "    'Direct_energy': [60000, 12.02]\n",
    "})\n",
    "\n",
    "moving_supplies = []\n",
    "days = {1,2}\n",
    "for i in company:\n",
    "    for j in cities:\n",
    "        moving_supply = (i,j)\n",
    "        moving_supplies.append(moving_supply)\n",
    "\n",
    "\n",
    "moving_supplies2 = []\n",
    "supplies_holder = []\n",
    "for i in company:\n",
    "    for j in cities:\n",
    "        for k in days:\n",
    "            moving_supply2 = (i,j,k)\n",
    "            if k < max(days):\n",
    "                supplies_holder.append(moving_supply2)\n",
    "            \n",
    "            moving_supplies2.append(moving_supply2)\n",
    "            \n",
    "\n"
   ]
  },
  {
   "cell_type": "code",
   "execution_count": 7,
   "id": "552964d3",
   "metadata": {},
   "outputs": [],
   "source": [
    "# second day demand increase by 10% and cost increase by 20%\n",
    "\n",
    "# cost for sencond day\n",
    "cost2 = {i : int for i in company}\n",
    "for i in company:\n",
    "    cost2[i] = cost[i] +(cost[i] *0.2)\n",
    "\n",
    "# minimum require for each cities on secnond day\n",
    "minimum_require2 = {i : str for i in cities}\n",
    "for i in cities:\n",
    "    minimum_require2[i] = minimum_require[i] + (minimum_require[i] * 0.1)"
   ]
  },
  {
   "cell_type": "code",
   "execution_count": null,
   "id": "0b60c364",
   "metadata": {},
   "outputs": [
    {
     "name": "stdout",
     "output_type": "stream",
     "text": [
      "Gurobi Optimizer version 12.0.3 build v12.0.3rc0 (mac64[x86] - Darwin 21.6.0 21H1320)\n",
      "\n",
      "CPU model: Intel(R) Core(TM) i5-5350U CPU @ 1.80GHz\n",
      "Thread count: 2 physical cores, 4 logical processors, using up to 4 threads\n",
      "\n",
      "Optimize a model with 18 rows, 24 columns and 52 nonzeros\n",
      "Model fingerprint: 0xf34bf666\n",
      "Coefficient statistics:\n",
      "  Matrix range     [1e+00, 1e+00]\n",
      "  Objective range  [1e+01, 1e+01]\n",
      "  Bounds range     [0e+00, 0e+00]\n",
      "  RHS range        [4e+03, 1e+05]\n",
      "Presolve removed 12 rows and 14 columns\n",
      "Presolve time: 0.03s\n",
      "Presolved: 6 rows, 10 columns, 14 nonzeros\n",
      "\n",
      "Iteration    Objective       Primal Inf.    Dual Inf.      Time\n",
      "       0    4.4604563e+06   2.905550e+03   0.000000e+00      0s\n",
      "       5    4.4614920e+06   0.000000e+00   0.000000e+00      0s\n",
      "\n",
      "Solved in 5 iterations and 0.04 seconds (0.00 work units)\n",
      "Optimal objective  4.461492000e+06\n"
     ]
    }
   ],
   "source": [
    "model = gp.Model(name = 'flow_cost')\n",
    "electric_supply = model.addVars(moving_supplies, name = 'moving_supplies')\n",
    "electric_supply_second = model.addVars(moving_supplies, name = 'moving_supplies2' )\n",
    "\n",
    "model.addConstr(electric_supply['Epcor', 'Airdie'] == 0, name = 'unsupported1')\n",
    "model.addConstr(electric_supply['Enamax', 'Redeer'] == 0, name = 'unsupported2')\n",
    "model.addConstr(electric_supply_second['Epcor', 'Airdie'] == 0, name = 'unsupported1')\n",
    "model.addConstr(electric_supply_second['Enamax', 'Redeer'] == 0, name = 'unsupported2')\n",
    "\n",
    "# first month\n",
    "city_vars = {city: [] for city in cities}\n",
    "supplier_vars = {supp: [] for supp in company}\n",
    "\n",
    "for i, j in electric_supply.keys():\n",
    "    city_vars[j].append(electric_supply[i, j])\n",
    "    supplier_vars[i].append(electric_supply[i, j])\n",
    "\n",
    "# Demand constraints: each city must receive exactly its required amount\n",
    "for city in cities:\n",
    "    model.addConstr(gp.quicksum(city_vars[city]) == minimum_require[city], \n",
    "                    name=f'demand_{city}')\n",
    "\n",
    "# Supply constraints: each supplier can supply at most its available amount\n",
    "for supp in company:\n",
    "    model.addConstr(gp.quicksum(supplier_vars[supp]) <= supply_available[supp], \n",
    "                    name=f'supply_{supp}')\n",
    "    \n",
    "#second month \n",
    "city_vars2 = {city:[] for city in cities}\n",
    "supplier_vars2 = {supp:[] for supp in company}\n",
    "\n",
    "for i,j in electric_supply_second.keys():\n",
    "    city_vars2[j].append(electric_supply_second[i,j])\n",
    "    supplier_vars2[i].append(electric_supply_second[i,j])\n",
    "\n",
    "for city in cities:\n",
    "    model.addConstr(gp.quicksum(city_vars2[city]) == minimum_require2[city], name=f'demand_{city}')\n",
    "\n",
    "\n",
    "for supp in company:\n",
    "    model.addConstr(gp.quicksum(supplier_vars2[supp]) <= supply_available[supp], \n",
    "                    name=f'supply_{supp}')\n",
    "    \n",
    "# Objective function: minimize total cost\n",
    "firstmonth_cost = gp.quicksum(electric_supply[i, j] * cost[i] for i, j in electric_supply.keys())\n",
    "secondmonth_cost = gp.quicksum(electric_supply_second[i,j] * cost2[i] for i,j in electric_supply_second.keys())\n",
    "\n",
    "total_cost = firstmonth_cost + secondmonth_cost\n",
    "model.setObjective(total_cost, gp.GRB.MINIMIZE)\n",
    "\n",
    "# Solve the model\n",
    "model.optimize()\n",
    "    "
   ]
  },
  {
   "cell_type": "code",
   "execution_count": 16,
   "id": "8c950a74",
   "metadata": {},
   "outputs": [
    {
     "name": "stdout",
     "output_type": "stream",
     "text": [
      "2538792.0\n"
     ]
    }
   ],
   "source": [
    "day2=[]\n",
    "for i, j in electric_supply_second.keys():\n",
    "    day2.append(electric_supply_second[i,j].X * cost2[i])\n",
    "\n",
    "print(gp.quicksum(day2))"
   ]
  },
  {
   "cell_type": "code",
   "execution_count": 9,
   "id": "733d0b7b",
   "metadata": {},
   "outputs": [
    {
     "name": "stdout",
     "output_type": "stream",
     "text": [
      "Gurobi Optimizer version 12.0.3 build v12.0.3rc0 (mac64[x86] - Darwin 21.6.0 21H1320)\n",
      "\n",
      "CPU model: Intel(R) Core(TM) i5-5350U CPU @ 1.80GHz\n",
      "Thread count: 2 physical cores, 4 logical processors, using up to 4 threads\n",
      "\n",
      "Optimize a model with 22 rows, 36 columns and 78 nonzeros\n",
      "Model fingerprint: 0x1d84fe03\n",
      "Coefficient statistics:\n",
      "  Matrix range     [1e+00, 1e+00]\n",
      "  Objective range  [1e+01, 3e+01]\n",
      "  Bounds range     [0e+00, 0e+00]\n",
      "  RHS range        [4e+03, 1e+05]\n",
      "Presolve removed 16 rows and 26 columns\n",
      "Presolve time: 0.02s\n",
      "Presolved: 6 rows, 10 columns, 14 nonzeros\n",
      "\n",
      "Iteration    Objective       Primal Inf.    Dual Inf.      Time\n",
      "       0    8.8823465e+06   2.905550e+03   0.000000e+00      0s\n",
      "       5    8.8843920e+06   0.000000e+00   0.000000e+00      0s\n",
      "\n",
      "Solved in 5 iterations and 0.10 seconds (0.00 work units)\n",
      "Optimal objective  8.884392000e+06\n"
     ]
    },
    {
     "name": "stderr",
     "output_type": "stream",
     "text": [
      "/var/folders/v8/wksvxw9d4pddcx_9trfddjsw0000gn/T/ipykernel_1762/4159591427.py:29: DeprecationWarning: Calling quicksum on a tupledict is deprecated, use .sum() instead.\n",
      "  gp.quicksum(hold_supplies) <= gp.quicksum(supply_available) - gp.quicksum(minimum_require)\n"
     ]
    }
   ],
   "source": [
    "model2 = gp.Model(name = 'model2days')\n",
    "# supply in the day\n",
    "day_supplies = model2.addVars(moving_supplies2, name = 'day_supplies')\n",
    "# supply purchases for the next days\n",
    "hold_supplies = supplier_store = model2.addVars(supplies_holder, name ='hold_supply')\n",
    "\n",
    "# create variable holder for city and oppereator based on the day\n",
    "city_vars_day ={}\n",
    "suply_vars_day = {}\n",
    "supply_vars_hold ={}\n",
    "for city in cities:\n",
    "    for day in days:\n",
    "        city_vars_day[city, day] =[]\n",
    "\n",
    "for supp in company:\n",
    "    for day in days:\n",
    "        suply_vars_day[supp, day] =[]\n",
    "\n",
    "# add the design parameter for each holder\n",
    "for i,j,k in day_supplies.keys():\n",
    "    city_vars_day[j,k].append(day_supplies[i,j,k])\n",
    "    suply_vars_day[i,k].append(day_supplies[i,j,k])\n",
    "\n",
    "# setting unspported area for 2 days\n",
    "for i in days:\n",
    "    model2.addConstr(day_supplies['Epcor', 'Airdie', i] == 0, name = 'unsupported1')\n",
    "    model2.addConstr(day_supplies['Enamax', 'Redeer',i] == 0, name = 'unsupported2')\n",
    "    model2.addConstr(\n",
    "        gp.quicksum(hold_supplies) <= gp.quicksum(supply_available) - gp.quicksum(minimum_require)\n",
    "        ,name='avalable_hold')\n",
    "\n",
    "for i in range(1,len(days)):\n",
    "    model2.addConstr(hold_supplies['Epcor', 'Airdie', i] == 0, name = 'unsupporth1')\n",
    "    model2.addConstr(hold_supplies['Enamax', 'Redeer',i]  == 0, name = 'unsupporth2') \n",
    "\n",
    "# add the limitation for the requirement of cities on different day\n",
    "for day in days:\n",
    "    for city in cities:\n",
    "        if day ==1 : # the demand on 2 days is different\n",
    "            model2.addConstr(gp.quicksum(city_vars_day[city,day]) == minimum_require[city])\n",
    "        else:\n",
    "            model2.addConstr(gp.quicksum(city_vars_day[city,day]) == minimum_require2[city])\n",
    "\n",
    "# add the limitation of supply for each company\n",
    "for day in days:\n",
    "    for supp in company:# same limitation of supply for 2 days\n",
    "        model2.addConstr(gp.quicksum(suply_vars_day[supp,day]) <= supply_available[supp])\n",
    "\n",
    "\n",
    "for day in days:\n",
    "    if day ==1:\n",
    "        day_cost1 = gp.quicksum(day_supplies[i,j,k] * cost[i] for i,j,k in day_supplies.keys())\n",
    "        hold_cost =  gp.quicksum(hold_supplies[i,j,k] * cost[i] for i,j,k in hold_supplies.keys())\n",
    "    if day ==2:\n",
    "        day_cost2 = gp.quicksum(day_supplies[i,j,k] * cost2[i] for i,j,k in day_supplies.keys())\n",
    "\n",
    "total_cost = day_cost1 + day_cost2 + hold_cost\n",
    "\n",
    "model2.setObjective(total_cost, GRB.MINIMIZE)\n",
    "\n",
    "model2.optimize()\n"
   ]
  },
  {
   "cell_type": "code",
   "execution_count": 10,
   "id": "934ae9ef",
   "metadata": {},
   "outputs": [
    {
     "name": "stdout",
     "output_type": "stream",
     "text": [
      "{('Epcor', 'Airdie', 1): <gurobi.Var hold_supply[Epcor,Airdie,1] (value 0.0)>, ('Epcor', 'Redeer', 1): <gurobi.Var hold_supply[Epcor,Redeer,1] (value 0.0)>, ('Epcor', 'Olds', 1): <gurobi.Var hold_supply[Epcor,Olds,1] (value 0.0)>, ('Epcor', 'Carstair', 1): <gurobi.Var hold_supply[Epcor,Carstair,1] (value 0.0)>, ('Enamax', 'Airdie', 1): <gurobi.Var hold_supply[Enamax,Airdie,1] (value 0.0)>, ('Enamax', 'Redeer', 1): <gurobi.Var hold_supply[Enamax,Redeer,1] (value 0.0)>, ('Enamax', 'Olds', 1): <gurobi.Var hold_supply[Enamax,Olds,1] (value 0.0)>, ('Enamax', 'Carstair', 1): <gurobi.Var hold_supply[Enamax,Carstair,1] (value 0.0)>, ('Direct_energy', 'Airdie', 1): <gurobi.Var hold_supply[Direct_energy,Airdie,1] (value 0.0)>, ('Direct_energy', 'Redeer', 1): <gurobi.Var hold_supply[Direct_energy,Redeer,1] (value 0.0)>, ('Direct_energy', 'Olds', 1): <gurobi.Var hold_supply[Direct_energy,Olds,1] (value 0.0)>, ('Direct_energy', 'Carstair', 1): <gurobi.Var hold_supply[Direct_energy,Carstair,1] (value 0.0)>}\n"
     ]
    }
   ],
   "source": [
    "print(hold_supplies)\n"
   ]
  },
  {
   "cell_type": "code",
   "execution_count": null,
   "id": "a1888662",
   "metadata": {},
   "outputs": [],
   "source": []
  }
 ],
 "metadata": {
  "kernelspec": {
   "display_name": "Python 3",
   "language": "python",
   "name": "python3"
  },
  "language_info": {
   "codemirror_mode": {
    "name": "ipython",
    "version": 3
   },
   "file_extension": ".py",
   "mimetype": "text/x-python",
   "name": "python",
   "nbconvert_exporter": "python",
   "pygments_lexer": "ipython3",
   "version": "3.11.11"
  }
 },
 "nbformat": 4,
 "nbformat_minor": 5
}
