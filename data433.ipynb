{
 "cells": [
  {
   "cell_type": "code",
   "execution_count": 20,
   "id": "50d29ada",
   "metadata": {},
   "outputs": [],
   "source": [
    "import pandas as pd\n",
    "import gurobipy as gp\n",
    "from gurobipy import GRB\n",
    "import json"
   ]
  },
  {
   "cell_type": "code",
   "execution_count": null,
   "id": "bfc39cd5",
   "metadata": {},
   "outputs": [],
   "source": [
    "#load data\n",
    "with open('diet-data.json', 'r' ) as file:\n",
    "    data = json.load(file)\n"
   ]
  },
  {
   "cell_type": "code",
   "execution_count": 95,
   "id": "67b18bc6",
   "metadata": {},
   "outputs": [],
   "source": [
    "# assign for problem values \n",
    "foods = data['foods']\n",
    "nutrion_sample = data['nutritionValues']\n",
    "nutritionValues = {}\n",
    "min_nutrion = data['minNutrition']\n",
    "max_nutrion = data['maxNutrition']\n",
    "categories =data['categories']\n",
    "\n",
    "# converting nutrionvalues list to dictionary type\n",
    "for i in range(0,len(nutrion_sample)):\n",
    "\n",
    "    nutritionValues.update({tuple(nutrion_sample[i][0]): nutrion_sample[i][1]})\n"
   ]
  },
  {
   "cell_type": "code",
   "execution_count": 104,
   "id": "aa6fa307",
   "metadata": {},
   "outputs": [
    {
     "data": {
      "text/plain": [
       "{'hamburger': <gurobi.Constr *Awaiting Model Update*>,\n",
       " 'chicken': <gurobi.Constr *Awaiting Model Update*>,\n",
       " 'hot dog': <gurobi.Constr *Awaiting Model Update*>,\n",
       " 'fries': <gurobi.Constr *Awaiting Model Update*>,\n",
       " 'macaroni': <gurobi.Constr *Awaiting Model Update*>,\n",
       " 'pizza': <gurobi.Constr *Awaiting Model Update*>,\n",
       " 'salad': <gurobi.Constr *Awaiting Model Update*>,\n",
       " 'milk': <gurobi.Constr *Awaiting Model Update*>,\n",
       " 'ice cream': <gurobi.Constr *Awaiting Model Update*>}"
      ]
     },
     "execution_count": 104,
     "metadata": {},
     "output_type": "execute_result"
    }
   ],
   "source": [
    "\n",
    "model = gp.Model('diet_estimate')\n",
    "buy = model.addVars(foods,name = 'buy')\n",
    "\n",
    "# assign for minimun of cost values\n",
    "model.setObjective(buy.prod(data['cost']), GRB.MINIMIZE)\n",
    "\n",
    "# assign for minimum values of nutrions \n",
    "model.addConstrs(\n",
    "    (\n",
    "        gp.quicksum(nutritionValues[f, c] * buy[f] for f in foods)\n",
    "        == [min_nutrion[c], max_nutrion[c]]\n",
    "        for c in categories\n",
    "    ),\n",
    "    \"_\",\n",
    ")\n",
    "# assign for non-negative food purchased \n",
    "model.addConstrs((buy[f] >=0 for f in foods), name='c1')\n"
   ]
  },
  {
   "cell_type": "code",
   "execution_count": 111,
   "id": "2199e7c8",
   "metadata": {},
   "outputs": [
    {
     "name": "stdout",
     "output_type": "stream",
     "text": [
      "Gurobi Optimizer version 12.0.3 build v12.0.3rc0 (mac64[x86] - Darwin 21.6.0 21H1320)\n",
      "\n",
      "CPU model: Intel(R) Core(TM) i5-5350U CPU @ 1.80GHz\n",
      "Thread count: 2 physical cores, 4 logical processors, using up to 4 threads\n",
      "\n",
      "Optimize a model with 13 rows, 12 columns and 48 nonzeros\n",
      "Coefficient statistics:\n",
      "  Matrix range     [1e+00, 2e+03]\n",
      "  Objective range  [9e-01, 3e+00]\n",
      "  Bounds range     [6e+01, 2e+03]\n",
      "  RHS range        [6e+01, 2e+03]\n",
      "\n",
      "Solved in 0 iterations and 0.01 seconds (0.00 work units)\n",
      "Optimal objective  1.182886111e+01\n",
      "hamburger: 0.6045138888888888\n",
      "milk: 6.970138888888889\n",
      "ice cream: 2.5913194444444447\n",
      "\n",
      "Total nutrient consumption:\n",
      "calories: 1800.00 (min 1800, max 2200)\n",
      "protein: 91.00 (min 91, max 1e+100)\n",
      "fat: 59.06 (min 0, max 65)\n",
      "sodium: 1779.00 (min 0, max 1601.1000000000001)\n"
     ]
    }
   ],
   "source": [
    "model.optimize()\n",
    "if model.Status == GRB.OPTIMAL:\n",
    "    for f in foods:\n",
    "        if buy[f].X > 1e-6:   # only show foods that are actually chosen\n",
    "            print(f\"{f}: {buy[f].X}\")\n",
    "\n",
    "    print(\"\\nTotal nutrient consumption:\")\n",
    "    for c in categories:\n",
    "        value = sum(nutritionValues[f, c] * buy[f].X for f in foods)\n",
    "        if c == 'sodium':\n",
    "            value_sodium = value\n",
    "        print(f\"{c}: {value:.2f} (min {min_nutrion[c]}, max {max_nutrion[c]})\")"
   ]
  },
  {
   "cell_type": "code",
   "execution_count": 114,
   "id": "d4ef85ec",
   "metadata": {},
   "outputs": [
    {
     "data": {
      "text/plain": [
       "{'hamburger': <gurobi.Constr *Awaiting Model Update*>,\n",
       " 'chicken': <gurobi.Constr *Awaiting Model Update*>,\n",
       " 'hot dog': <gurobi.Constr *Awaiting Model Update*>,\n",
       " 'fries': <gurobi.Constr *Awaiting Model Update*>,\n",
       " 'macaroni': <gurobi.Constr *Awaiting Model Update*>,\n",
       " 'pizza': <gurobi.Constr *Awaiting Model Update*>,\n",
       " 'salad': <gurobi.Constr *Awaiting Model Update*>,\n",
       " 'milk': <gurobi.Constr *Awaiting Model Update*>,\n",
       " 'ice cream': <gurobi.Constr *Awaiting Model Update*>}"
      ]
     },
     "execution_count": 114,
     "metadata": {},
     "output_type": "execute_result"
    }
   ],
   "source": [
    "max_nutrion.update({'sodium': value_sodium * 0.9})\n",
    "\n",
    "model2 = gp.Model('diet_estimate2')\n",
    "buy2 = model2.addVars(foods,name = 'buy2')\n",
    "\n",
    "# assign for minimun of cost values\n",
    "model2.setObjective(buy2.prod(data['cost']), GRB.MINIMIZE)\n",
    "\n",
    "# assign for minimum values of nutrions \n",
    "model2.addConstrs(\n",
    "    (\n",
    "        gp.quicksum(nutritionValues[f, c] * buy2[f] for f in foods)\n",
    "        == [min_nutrion[c], max_nutrion[c]]\n",
    "        for c in categories\n",
    "    ),\n",
    "    \"_\",\n",
    ")\n",
    "# assign for non-negative food purchased \n",
    "model2.addConstrs((buy2[f] >=0 for f in foods), name='c1')"
   ]
  },
  {
   "cell_type": "code",
   "execution_count": 113,
   "id": "bbc731c3",
   "metadata": {},
   "outputs": [
    {
     "name": "stdout",
     "output_type": "stream",
     "text": [
      "Gurobi Optimizer version 12.0.3 build v12.0.3rc0 (mac64[x86] - Darwin 21.6.0 21H1320)\n",
      "\n",
      "CPU model: Intel(R) Core(TM) i5-5350U CPU @ 1.80GHz\n",
      "Thread count: 2 physical cores, 4 logical processors, using up to 4 threads\n",
      "\n",
      "Optimize a model with 13 rows, 12 columns and 48 nonzeros\n",
      "Model fingerprint: 0x9d14fbf5\n",
      "Coefficient statistics:\n",
      "  Matrix range     [1e+00, 2e+03]\n",
      "  Objective range  [9e-01, 3e+00]\n",
      "  Bounds range     [6e+01, 2e+03]\n",
      "  RHS range        [6e+01, 2e+03]\n",
      "Presolve removed 9 rows and 2 columns\n",
      "Presolve time: 0.02s\n",
      "Presolved: 4 rows, 10 columns, 37 nonzeros\n",
      "\n",
      "Iteration    Objective       Primal Inf.    Dual Inf.      Time\n",
      "       0    0.0000000e+00   1.472500e+02   0.000000e+00      0s\n",
      "       4    1.2107477e+01   0.000000e+00   0.000000e+00      0s\n",
      "\n",
      "Solved in 4 iterations and 0.10 seconds (0.00 work units)\n",
      "Optimal objective  1.210747698e+01\n",
      "hamburger: 0.06328373015873043\n",
      "milk: 8.334980158730158\n",
      "ice cream: 2.8501686507936506\n",
      "\n",
      "Total nutrient consumption:\n",
      "calories: 1800.00 (min 1800, max 2200)\n",
      "protein: 91.00 (min 91, max 1e+100)\n",
      "fat: 50.98 (min 0, max 65)\n",
      "sodium: 1601.10 (min 0, max 1601.1000000000001)\n"
     ]
    }
   ],
   "source": [
    "model2.optimize()\n",
    "if model2.Status == GRB.OPTIMAL:\n",
    "    for f in foods:\n",
    "        if buy2[f].X > 1e-6:   # only show foods that are actually chosen\n",
    "            print(f\"{f}: {buy2[f].X}\")\n",
    "\n",
    "    print(\"\\nTotal nutrient consumption:\")\n",
    "    for c in categories:\n",
    "        value = sum(nutritionValues[f, c] * buy2[f].X for f in foods)\n",
    "        print(f\"{c}: {value:.2f} (min {min_nutrion[c]}, max {max_nutrion[c]})\")"
   ]
  }
 ],
 "metadata": {
  "kernelspec": {
   "display_name": "Python 3",
   "language": "python",
   "name": "python3"
  },
  "language_info": {
   "codemirror_mode": {
    "name": "ipython",
    "version": 3
   },
   "file_extension": ".py",
   "mimetype": "text/x-python",
   "name": "python",
   "nbconvert_exporter": "python",
   "pygments_lexer": "ipython3",
   "version": "3.11.11"
  }
 },
 "nbformat": 4,
 "nbformat_minor": 5
}
